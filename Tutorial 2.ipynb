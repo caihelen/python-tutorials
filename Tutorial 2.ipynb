{
 "cells": [
  {
   "cell_type": "markdown",
   "metadata": {},
   "source": [
    "# Welcome to Tutorial 2!\n",
    "Keep up the good work! Today we'll be learning about functions, packages, and basic data visualization.\n",
    "\n",
    "![](https://media.giphy.com/media/eeUJaTwsHh3tswkaYm/giphy.gif)"
   ]
  },
  {
   "cell_type": "markdown",
   "metadata": {},
   "source": [
    "# Part 0: Functions\n",
    "Conditional statements and loops are quite powerful on their own. However, when programs get longer and longer, it's useful to have a way to organize code. This is where functions come in. \n",
    "\n",
    "If variables are like nouns, then functions are like verbs. They do things to variables. Some functions are more complicated than others, and some functions modify more variables than others. \n",
    "\n",
    "You've had a little but of experience with functions before. Remember our old friend, `print()`? `print()` is a function that is automatically included in Python. We use it to display things as output. Quite useful!  \n",
    "In Tutorial 1, you also saw functions called `range()` and `len()`. What do they do?  \n",
    "When you're confused about a Python function, you can (almost) always refer to the Python documentation about it. You can search for it online, or use the `help()` function on it:"
   ]
  },
  {
   "cell_type": "code",
   "execution_count": null,
   "metadata": {},
   "outputs": [],
   "source": [
    "# Run this code!\n",
    "help(len)"
   ]
  },
  {
   "cell_type": "markdown",
   "metadata": {},
   "source": [
    "Hmm, these are some 50-cent words, but here's the gist: the function `len` will tell you the number of items within an `object`. In order to work, this particular function needs an `obj` to take in. What happens if we try to use `len()` on nothing?"
   ]
  },
  {
   "cell_type": "code",
   "execution_count": null,
   "metadata": {
    "scrolled": true
   },
   "outputs": [],
   "source": [
    "# Run this code!\n",
    "len()"
   ]
  },
  {
   "cell_type": "markdown",
   "metadata": {},
   "source": [
    "An error message appears! Don't panic--the error message is telling us that we need to give `len` something to count. Before, we gave it a list of objects. Let's try counting some things:"
   ]
  },
  {
   "cell_type": "code",
   "execution_count": null,
   "metadata": {},
   "outputs": [],
   "source": [
    "my_list = ['Dr. Hall', 'Dr. Das', 'Dr. Ice']\n",
    "\n",
    "# How many items are in my_list?\n",
    "print(len(my_list))\n",
    "\n",
    "# How long is the first item in my_list ('Dr. Hall')?\n",
    "print(len(my_list[0]))"
   ]
  },
  {
   "cell_type": "markdown",
   "metadata": {},
   "source": [
    "What does `range()` do?"
   ]
  },
  {
   "cell_type": "code",
   "execution_count": null,
   "metadata": {},
   "outputs": [],
   "source": [
    "# Run this code!\n",
    "help(range)"
   ]
  },
  {
   "cell_type": "markdown",
   "metadata": {},
   "source": [
    "Information overload! Don't worry: what we're really interested in is what `range` takes in as an __input__ and what it will __return__. __Return__ is a fancy word that means \"give back to us as a result.\" In this case, `range` takes in one or two numbers. Then, it will __return__ (or \"give back to us\") a list of integers between those two numbers.  \n",
    "Given your newfound expertise about the `range` function, what do you think the following code will print out?"
   ]
  },
  {
   "cell_type": "code",
   "execution_count": null,
   "metadata": {},
   "outputs": [],
   "source": [
    "for i in range(1,5):\n",
    "    print(i*2)"
   ]
  },
  {
   "cell_type": "markdown",
   "metadata": {},
   "source": [
    "Is this what you expected? Explain your reasoning below."
   ]
  },
  {
   "cell_type": "markdown",
   "metadata": {},
   "source": [
    "*Answer Here*"
   ]
  },
  {
   "cell_type": "markdown",
   "metadata": {},
   "source": [
    "Now that we've familiarized ourselves with the anatomy of functions, we can actually start writing our own. There are three things that every function needs:\n",
    "1. The word `def`. The word `def` will alert Python that you are about to tell it about a new function.\n",
    "2. A name. It's helpful to make it a descriptive name, when you start using your functions in other pieces of code. \n",
    "3. A return statement. This is always the last part of a Python function. When Python sees the word `return`, it will say \"I'm done!\" and leave the function. \n",
    "Here's a pretty simple function that just has a name and a return statement:\n"
   ]
  },
  {
   "cell_type": "code",
   "execution_count": null,
   "metadata": {},
   "outputs": [],
   "source": [
    "def myFcn(): # Everything in your function after this line must be indented!\n",
    "    return(0)"
   ]
  },
  {
   "cell_type": "markdown",
   "metadata": {},
   "source": [
    "Just by reading the code above, you can probably that it's a fairly useless function. It doesn't do anything except for tell us `0`! To make functions more useful, we need to give them inputs. In programming, we refer to these inputs as __arguments__. __Arguments__ are things like variables that you give to __functions__. They are nouns that our verbs act on."
   ]
  },
  {
   "cell_type": "code",
   "execution_count": null,
   "metadata": {},
   "outputs": [],
   "source": [
    "# Run this code!\n",
    "def cube(num):\n",
    "    out = num ** 3 # The ** means that I am raising an exponent\n",
    "    return(out)"
   ]
  },
  {
   "cell_type": "markdown",
   "metadata": {},
   "source": [
    "Ahh, a more useful function! Note that it should take a single *numeric* argument: giving this function a string or a boolean variable wouldn't make any sense. It would probably also complain if we tried to give it a list, or two numeric arguments at once. Also note that it should `return` a single number as the result.  \n",
    "Let's take her for a spin!"
   ]
  },
  {
   "cell_type": "code",
   "execution_count": null,
   "metadata": {},
   "outputs": [],
   "source": [
    "cube(3)"
   ]
  },
  {
   "cell_type": "markdown",
   "metadata": {},
   "source": [
    "It looks like the function works! But, to build better programming habits, I'm going to add a block comment at the beginning of the function to explain a little bit more about what it does. Just like a regular comment (that you can write with a `#`), it will tell other human readers about your function. You can start and end a block comment with three double quotes (`\"\"\"`).\n"
   ]
  },
  {
   "cell_type": "code",
   "execution_count": null,
   "metadata": {},
   "outputs": [],
   "source": [
    "def cube(num):\n",
    "    \"\"\"\n",
    "    Takes in a single numeric variable and computes the cube of it. \n",
    "    Returns the result as a single numeric value.\n",
    "    \"\"\"\n",
    "    out = num ** 3\n",
    "    return(out)"
   ]
  },
  {
   "cell_type": "markdown",
   "metadata": {},
   "source": [
    "Now that Python knows more about what this function does, we can call the `help` function on it!"
   ]
  },
  {
   "cell_type": "code",
   "execution_count": null,
   "metadata": {
    "scrolled": true
   },
   "outputs": [],
   "source": [
    "help(cube)"
   ]
  },
  {
   "cell_type": "markdown",
   "metadata": {},
   "source": [
    "But, our functions can take in more than one argument. It can also take in arguments of different data types! Python will expect to see arguments in the order in which they are given in the function definition. The order of arguments matters.   \n",
    "Here's an example of a function that takes in multiple arguments."
   ]
  },
  {
   "cell_type": "code",
   "execution_count": null,
   "metadata": {},
   "outputs": [],
   "source": [
    "def square_or_cube(numbers, squareBool):\n",
    "    \"\"\"\n",
    "    Inputs: \"numbers\" will be a list of numerical values. \n",
    "        \"squareBool\" will be a boolean variable indicating whether to square a value or not.\n",
    "    Output: A list of either squared or cubed values.\n",
    "    \"\"\"\n",
    "    if squareBool:\n",
    "        for i in range(len(numbers)):\n",
    "            numbers[i] = numbers[i] ** 2\n",
    "    else:\n",
    "        for i in range(len(numbers)):\n",
    "            numbers[i] = numbers[i] ** 3\n",
    "    return(numbers)"
   ]
  },
  {
   "cell_type": "markdown",
   "metadata": {},
   "source": [
    "What do you think the output of the following code is? Refer back to the function that we just defined before you run it."
   ]
  },
  {
   "cell_type": "code",
   "execution_count": null,
   "metadata": {},
   "outputs": [],
   "source": [
    "print(square_or_cube([1, 2, 3], True))"
   ]
  },
  {
   "cell_type": "markdown",
   "metadata": {},
   "source": [
    "Is this what you expected? Explain your reasoning below."
   ]
  },
  {
   "cell_type": "markdown",
   "metadata": {},
   "source": [
    "*Answer Here*"
   ]
  },
  {
   "cell_type": "markdown",
   "metadata": {},
   "source": [
    "It's also worth nothing that variables you use or define inside of functions have a small __scope__. Python has no idea what these variables mean outside of the functions they are defined in!"
   ]
  },
  {
   "cell_type": "markdown",
   "metadata": {},
   "source": [
    "# Your Turn!\n",
    "Go back to the code you wrote in Tutorial 1 for a reverse transcriptase. Let's practice turning it into a function. You'll have to:\n",
    "1. Define a function that takes in one argument: a string of characters. \n",
    "2. Place your code from Tutorial 2 inside the body of the function. Instead of `print`-ing the result, make sure you `return` it instead. \n",
    "3. Test your function on the RNA snipped I've included below. Be sure to `print` the results of your new function, so we can see the results."
   ]
  },
  {
   "cell_type": "code",
   "execution_count": null,
   "metadata": {},
   "outputs": [],
   "source": [
    "rna_seq = 'GGAUCGCCUA'\n",
    "# Your Code After This Line"
   ]
  },
  {
   "cell_type": "markdown",
   "metadata": {},
   "source": [
    "# Part 1: Packages\n",
    "Writing our own functions can be nice and convenient. But sometimes, there's no need to write functions when we know that other people have done the work for us already. In Python (and many other programming languages), other computer scientists have collected useful functions into __packages.__  \n",
    "__Packages__ are typically open-access, and are full of useful functions that coders before us have written for other people to use.  \n",
    "\n",
    "We've installed a few important packages on all of your distributions of Python. The first one you'll be introduced to is `numpy` (__num__erical __Py__thon). `numpy` is a *huge* library. If you continue to work with Python, you will encounter it time and time again.  \n",
    "It's time to get introduced to `numpy`! Her nickname will be `np`. It's shorter than using her full name."
   ]
  },
  {
   "cell_type": "code",
   "execution_count": null,
   "metadata": {},
   "outputs": [],
   "source": [
    "# Run this code!\n",
    "import numpy as np"
   ]
  },
  {
   "cell_type": "markdown",
   "metadata": {},
   "source": [
    "Great! Once you have a package installed, that one-line `import` statement is all you need to start accessing all of the tools inside of it. Here's are some examples of some of `numpy`'s useful functions:"
   ]
  },
  {
   "cell_type": "code",
   "execution_count": null,
   "metadata": {},
   "outputs": [],
   "source": [
    "# Get the base-10 logarithm of a number\n",
    "print(np.log10(1000))\n",
    "\n",
    "# Get the determinant of a matrix\n",
    "print(np.linalg.det([[1, 0], [3, 4]]))\n",
    "\n",
    "# Raise each element in the first argument to the powers listed in the second argument\n",
    "print(np.power([1, 2, 3], [3, 2, 1]))"
   ]
  },
  {
   "cell_type": "markdown",
   "metadata": {},
   "source": [
    "And we're just scratching the surface! In the project, you will be using other useful Python libraries in addition to `numpy`. "
   ]
  },
  {
   "cell_type": "markdown",
   "metadata": {},
   "source": [
    "# Part 2: Data Visualization\n",
    "A widely used library of functions for visualizing and plotting information is called `matplotlib.pyplot`. By convention, the nickname for this library is `plt`."
   ]
  },
  {
   "cell_type": "code",
   "execution_count": null,
   "metadata": {},
   "outputs": [],
   "source": [
    "import matplotlib.pyplot as plt"
   ]
  },
  {
   "cell_type": "markdown",
   "metadata": {},
   "source": [
    "`pyplot` can make all sorts of useful graphs, including line plots, scatter plots, histograms, and lots more."
   ]
  },
  {
   "cell_type": "code",
   "execution_count": null,
   "metadata": {},
   "outputs": [],
   "source": [
    "# Get some random numbers to play around with\n",
    "data_to_plot = np.random.rand(50)\n",
    "# Plot these values\n",
    "plt.figure()\n",
    "plt.plot(data_to_plot)\n",
    "plt.show()"
   ]
  },
  {
   "cell_type": "markdown",
   "metadata": {},
   "source": [
    "In the first line of the previous cell, we just generated some random numbers.  \n",
    "In the second line of code, we `called` a new figure. This `call` alerts Python that we want to show the user a set of graphs.  \n",
    "The third line of code uses `plt.plot` to create a line graph on the `figure`.  \n",
    "The fourth line tells Python to put this line graph on the figure we wanted to show the user.  \n",
    "When using `pyplot`, you generally always need:\n",
    "* a call using `plt.figure()`\n",
    "* some function to plot your data\n",
    "* showing your plot using `plt.show()`"
   ]
  },
  {
   "cell_type": "markdown",
   "metadata": {},
   "source": [
    "The plot we just made is nice, but it needs to be cleaned up a little bit. Let's give it some titles, and play around with the markers."
   ]
  },
  {
   "cell_type": "code",
   "execution_count": null,
   "metadata": {},
   "outputs": [],
   "source": [
    "plt.figure()\n",
    "plt.plot(data_to_plot, 'go')\n",
    "plt.xlabel('Index of each data point')\n",
    "plt.ylabel('Value')\n",
    "plt.show()"
   ]
  },
  {
   "cell_type": "markdown",
   "metadata": {},
   "source": [
    "Instead of a line plot, we used green ('`g`') circular ('`o`') markers to denote each data point. Python knows a lot of colors, such as `r` (red), `b` (blue), and `k` (black). There are also different marker symbols, including `^` (triangle), `s` (square), and `x` (cross). There are lots of variations on this, and they can all be found in the Python documentation!\n",
    "\n",
    "To count the frequency of each value occurring, maybe it's best if we use a histogram. Instead of using `plt.plot`, we should use `plt.hist`."
   ]
  },
  {
   "cell_type": "code",
   "execution_count": null,
   "metadata": {},
   "outputs": [],
   "source": [
    "plt.figure()\n",
    "plt.hist(data_to_plot, bins=20)\n",
    "plt.xlabel('Index of each data point')\n",
    "plt.ylabel('Value')\n",
    "plt.show()"
   ]
  },
  {
   "cell_type": "markdown",
   "metadata": {},
   "source": [
    "Note that I passed an argument called `bins` to the `plt.hist` function. This will change the number of bars that are displayed on the histogram, and as a result will change how finely your data is displayed. Feel free to play around with the number of `bins` to see how it changes.  \n",
    "Run `help(plt.hist)` to find out some more options you can change."
   ]
  },
  {
   "cell_type": "markdown",
   "metadata": {},
   "source": [
    "## A short detour and a cool trick\n",
    "Remember one of our favorite data types, strings? It turns out that you can easily break up a string into a `list` of characters, just by using the function `list()`. Try out the following example:"
   ]
  },
  {
   "cell_type": "code",
   "execution_count": null,
   "metadata": {},
   "outputs": [],
   "source": [
    "example_letters = list(\"biochemistry\")\n",
    "print(example_letters)"
   ]
  },
  {
   "cell_type": "markdown",
   "metadata": {},
   "source": [
    "# Your turn!\n",
    "Using this cool new trick, let's try to visualize the amino acid composition of a short sequence. In the following cell, I've copied over one of the shortest complete polypeptide sequences: one of extracellular hemoglobin of *Tylorrhynchus heterochaetus*, a type of polychaete worm. Your task is to:  \n",
    "1. Split up this sequence into a list of its residues.\n",
    "2. Plot the number of occurrences each residue has using a histogram.\n",
    "3. Label the axes of your figure and give it a pertinent title.\n",
    "\n",
    "You can check your work against the original paper (uploaded on Canvas under the name __polychaete.pdf__).  \n",
    "\n",
    "*Extra challenge:* Can you use some color schemes to color nonpolar, basic, and acidic residues in different colors? Can you label each bar on the histogram with the number?  \n",
    "There are many, many creative ways you can represent data using `pyplot` and other Python libraries. I encourage you to explore!"
   ]
  },
  {
   "cell_type": "code",
   "execution_count": null,
   "metadata": {},
   "outputs": [],
   "source": [
    "complete_sequence = \"TDCGILZRIKVKQQWAGVYSVGESRTDFAIDVFNFFRTNPDRSLFNRVNGDNVYSPEFKAHMVRVFAGFDILISVLDDKPVLDQALAHYAAFHKQFGTIPFKAFGQTMFQTIAEHIHGADIGAWRACYAEQIVTGITA\"\n",
    "# Your Code After This Line"
   ]
  },
  {
   "cell_type": "code",
   "execution_count": null,
   "metadata": {},
   "outputs": [],
   "source": []
  }
 ],
 "metadata": {
  "kernelspec": {
   "display_name": "Python 3",
   "language": "python",
   "name": "python3"
  },
  "language_info": {
   "codemirror_mode": {
    "name": "ipython",
    "version": 3
   },
   "file_extension": ".py",
   "mimetype": "text/x-python",
   "name": "python",
   "nbconvert_exporter": "python",
   "pygments_lexer": "ipython3",
   "version": "3.7.4"
  }
 },
 "nbformat": 4,
 "nbformat_minor": 2
}
