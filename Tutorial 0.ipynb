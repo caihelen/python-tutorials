{
 "cells": [
  {
   "cell_type": "markdown",
   "metadata": {},
   "source": [
    "# Welcome to Python!\n",
    "\n",
    "Whether you are super-familiar with Jupyter Notebook or someone who has never written a line of code before, our goal here is to familiarize you with some computational tools that we often find useful in bioinformatics and genomics. \n",
    "\n",
    "Each of these tutorials will contain some tools that will be central to completing the final Python Project. \n",
    "\n",
    "![](https://media.giphy.com/media/QtZKO7mb7ebpC/giphy.gif)\n",
    "\n",
    "### No matter the level of experience you have,\n",
    "reach out for help if you are stuck. The best way to learn is to learn from others! You are always welcome to ask the teaching staff for help. You are also welcome to work together with other participants. __SSP's policy on finding help to \"de-bug\" your programs is this:__\n",
    "* Your first place to look for help is Google. \n",
    "* If you do not find an answer within ~5 minutes, you can always ask a member of the teaching staff for help. \n",
    "* You may ask your fellow participants for help. You may show them your computer screen and any error messages that arise. __However:__ the person helping you cannot assume control of your keyboard and type anything. \n",
    "* Likewise, __you are not allowed to copy-and-paste and/or send code to anyone else. You are also not allowed to copy-and-paste any code you find online, unless you give it proper citation and acknowledgement.__\n",
    "* You may not show your working code as an \"example\" to anyone else.\n",
    "\n",
    "### If you have extensive experience with Python 3 and Jupyter Notebook: \n",
    "...you may consider skipping ahead to Tutorial 3. \n",
    "\n",
    "### If you have previously done some computer coding and need to familiarize yourself with concepts:\n",
    "...you may consider skimming over Tutorials 0 and 1 before skipping ahead to Tutorials 2 and 3.\n",
    "\n",
    "### If you have never done any computer coding before:\n",
    "...welcome! Programming is challenging and might be intimidating, but it is an extremely powerful tool to have in your arsenal. There will be a lot of frustrating moments and problems to solve ahead, but you have everyone cheering for you!\n",
    "\n",
    "# Let's get started!\n",
    "![](https://media.giphy.com/media/l0MYt5jPR6QX5pnqM/giphy.gif)\n",
    "\n"
   ]
  },
  {
   "cell_type": "markdown",
   "metadata": {},
   "source": [
    "# Before we begin\n",
    "You are currently working on a platform called __Jupyter Notebook__. Essentially, the Notebook is a convenient place for us to show you code and write a lot of notes in. It is also a place where you can write your own code and interact with it!\n",
    "If you __click once on this text__, you will notice that a rectangle appears around this paragraph. The thick line on the left-hand side tells you that you have highlighted a __cell__. Each __cell__ contains text that doesn't do anything, __or__ computer code that you can run. "
   ]
  },
  {
   "cell_type": "code",
   "execution_count": null,
   "metadata": {},
   "outputs": [],
   "source": [
    "# This cell has been changed to contain Python code!\n",
    "# There are several ways to run Python code inside of a notebook. You can run the entire notebook by clicking the \"Run\" button\n",
    "# in the toolbar at the top. You can also go to \"Cell\" > \"Run Cells\" to run any cells you have selected.\n",
    "# You can also run a single cell at a time by pressing shift + enter. \n",
    "# Try selecting this cell (click once) and pressing shift+enter.\n",
    "\n",
    "import datetime\n",
    "print(\"Hello, world!\")\n",
    "print(\"The current time is\", datetime.datetime.now())"
   ]
  },
  {
   "cell_type": "markdown",
   "metadata": {},
   "source": [
    "__Congratulations!__ You've just executed your first Python code.   \n",
    "\n",
    "By the end of this Tutorial, you will be able to code your own rudimentary reverse translator."
   ]
  },
  {
   "cell_type": "markdown",
   "metadata": {},
   "source": [
    "# Part 0: Variables\n",
    "There are many building blocks we can use when it comes to coding. The first thing is __variables__. Variables are like nouns. We can name them and define them. To do, we use an equals (__=__) sign. Try running the code below."
   ]
  },
  {
   "cell_type": "code",
   "execution_count": null,
   "metadata": {},
   "outputs": [],
   "source": [
    "my_variable = 5\n",
    "print(my_variable)"
   ]
  },
  {
   "cell_type": "markdown",
   "metadata": {},
   "source": [
    "In the previous two lines of code, we defined a variable called `my_variable`. We set it equal to the number 5. (Notice that the name that I wanted the variable to be called is on the __left side__ of the equals sign, and the value that I wanted it to be is on the __right side__ of the equals sign.) Just to check that `my_variable` is what we think it is, we told Python to `print` out the value of `my_variable.`  \n",
    "But, __be careful when you choose new variable names!__ What if we made a new variable with the same name?"
   ]
  },
  {
   "cell_type": "code",
   "execution_count": null,
   "metadata": {},
   "outputs": [],
   "source": [
    "# Run this code!\n",
    "my_variable = 9\n",
    "print(my_variable)"
   ]
  },
  {
   "cell_type": "markdown",
   "metadata": {},
   "source": [
    "## What happened to the number `5`? \n",
    "In the previous chunk of code, we defined `my_variable` to be the number 9. This overwrote any instances of `my_variable` that existed before. In other words, we told Python: \"Forget anything that was called `my_variable` before. This is `my_variable` now, and it is equal to `9`.\"\n",
    "\n"
   ]
  },
  {
   "cell_type": "markdown",
   "metadata": {},
   "source": [
    "## What kinds of variables are there?\n",
    "Just like there are different types of nouns (people, places, and things), there are different types of variables. Variables can be integers, decimal values, words/letters, lists, and so on! Let's see what different categories of variables there are. We call these different categories __data types.__  \n",
    "In the next few cells, I've defined some variables, and asked Python to tell me what data type each of them are. Run the cells below and look at the output to see the data types of each variable."
   ]
  },
  {
   "cell_type": "code",
   "execution_count": null,
   "metadata": {},
   "outputs": [],
   "source": [
    "variable1 = 2020\n",
    "type(variable1)"
   ]
  },
  {
   "cell_type": "code",
   "execution_count": null,
   "metadata": {},
   "outputs": [],
   "source": [
    "variable2 = 3.14159\n",
    "type(variable2)"
   ]
  },
  {
   "cell_type": "code",
   "execution_count": null,
   "metadata": {},
   "outputs": [],
   "source": [
    "variable3 = 10.\n",
    "type(variable3)"
   ]
  },
  {
   "cell_type": "code",
   "execution_count": null,
   "metadata": {},
   "outputs": [],
   "source": [
    "variable4 = \"Hello!\"\n",
    "type(variable4)"
   ]
  },
  {
   "cell_type": "code",
   "execution_count": null,
   "metadata": {},
   "outputs": [],
   "source": [
    "variable5 = \"asdfghj\"\n",
    "type(variable5)"
   ]
  },
  {
   "cell_type": "code",
   "execution_count": null,
   "metadata": {},
   "outputs": [],
   "source": [
    "variable6 = True\n",
    "type(variable6)"
   ]
  },
  {
   "cell_type": "code",
   "execution_count": null,
   "metadata": {},
   "outputs": [],
   "source": [
    "variable7 = [1, 2, 3, 4]\n",
    "type(variable7)"
   ]
  },
  {
   "cell_type": "code",
   "execution_count": null,
   "metadata": {},
   "outputs": [],
   "source": [
    "variable8 = [[0, 1, 2], ['cat', 'dog'], ['PUR', 'IU', 'NMT', 'CUB']]\n",
    "type(variable8)"
   ]
  },
  {
   "cell_type": "markdown",
   "metadata": {},
   "source": [
    "## To recap, here are some different data types that we can use:\n",
    "* __int__: a number without any decimal points\n",
    "* __float__: a decimal with decimal points. If you add a decimal point after an int, it becomes a float!\n",
    "* __str__: a string. Typically a bunch of characters/letters/numbers. They don't have to make sense! When defining string, you __must__ type it in single quotes (') or double quotes (\").\n",
    "* __bool__: a boolean variable. These variables can only be __True__ or __False__. You might also see them represented as __1__ and __0__.\n",
    "* __list__: stuff that is enclosed within square brackets ([ ]). Each __element__ inside is separated by commas. Elements inside of a list can be ints, floats, strings--even other lists!"
   ]
  },
  {
   "cell_type": "markdown",
   "metadata": {},
   "source": [
    "# A quick detour into error messages\n",
    "Sometimes, when Python sees code that it doesn't understand, it will spit out an angry, red-and-green error message at you. It will look nasty and scary, but don't worry!  \n",
    "\n",
    "At the end of the day, computers are not very smart. We need to tell computers what we want them to do. When you get an error message, it's because Python gave up on trying to understand what you told it to do.  \n",
    "\n",
    "Over time, you will become very good at deciphering these error messages. I've deliberately written the following cell to generate an error message. Run it and see what happens."
   ]
  },
  {
   "cell_type": "code",
   "execution_count": null,
   "metadata": {},
   "outputs": [],
   "source": [
    "variable9 = nine"
   ]
  },
  {
   "cell_type": "markdown",
   "metadata": {},
   "source": [
    "Let's break this error message down. \n",
    "1. The first part of the error message will tell you the \"location\" of where the error message occured. This is more apparent when working in text editor softwares, where the \"location\" will usually be a line number. \n",
    "2. The second part of the error message will display the actual piece of code that gave Python some trouble, with an arrow next to it. \n",
    "3. The last line of the error message will be a short summary of what went wrong. This is usually the most important and useful piece of information. \n",
    "\n",
    "Here, Python said that the name `nine` was not defined. Python thinks that `nine` is a variable, and it got frustrated because it hasn't been told about any variables named `nine`! Let's change that in the next cell and see what happens. "
   ]
  },
  {
   "cell_type": "code",
   "execution_count": null,
   "metadata": {},
   "outputs": [],
   "source": [
    "nine = 9\n",
    "variable9 = nine"
   ]
  },
  {
   "cell_type": "markdown",
   "metadata": {},
   "source": [
    "Much better! Error messages are not meant to look intimidating, but it can sure feel frustrating when Python doesn't do what you ask it to. "
   ]
  },
  {
   "cell_type": "markdown",
   "metadata": {},
   "source": [
    "# Part 1: Numbers and Strings\n",
    "Once we have variables, we can start manipulating them! Let's do some math using our number variables (__int__ and __float__ data types).  \n",
    "What do you think the following cell does? Think about it, then run the cell to see if you are correct."
   ]
  },
  {
   "cell_type": "code",
   "execution_count": null,
   "metadata": {},
   "outputs": [],
   "source": [
    "a = 5\n",
    "b = a + 1\n",
    "print(b)"
   ]
  },
  {
   "cell_type": "markdown",
   "metadata": {},
   "source": [
    "In the first line, we defined an int called `a`. In the second line, we defined a variable called `b` that was equal to the value of `a`, plus 1. Python realized that there was a variable called `a` that was equal to the value of `5`, so it realized that we wanted `b` to be equal to `5 + 1`.  \n",
    "In the third line, we told Python to `print` the value of the variable `b` so that we could see it.  \n",
    "What's the data type of `b`?"
   ]
  },
  {
   "cell_type": "code",
   "execution_count": null,
   "metadata": {},
   "outputs": [],
   "source": [
    "type(b)"
   ]
  },
  {
   "cell_type": "markdown",
   "metadata": {},
   "source": [
    "Looks like `b` is an __int__. Is this what you expected?  \n",
    "Try running the next cell of code."
   ]
  },
  {
   "cell_type": "code",
   "execution_count": null,
   "metadata": {},
   "outputs": [],
   "source": [
    "c = 1.\n",
    "d = a + c\n",
    "type(d)"
   ]
  },
  {
   "cell_type": "markdown",
   "metadata": {},
   "source": [
    "Is this what you expected? Think about it, and explain your reasoning below:"
   ]
  },
  {
   "cell_type": "markdown",
   "metadata": {},
   "source": [
    "*Answer Here (double-click to type in cell)*"
   ]
  },
  {
   "cell_type": "markdown",
   "metadata": {},
   "source": [
    "## Numbers are boring. What's next?\n",
    "Strings are very important for genomics. How would you represent a codon sequence or series of amino acids? Turns out, one of the easiest ways is to use a jumble of characters. \n"
   ]
  },
  {
   "cell_type": "code",
   "execution_count": null,
   "metadata": {},
   "outputs": [],
   "source": [
    "# Run this code\n",
    "start_codon = \"AUG\"\n",
    "Tyr = \"UAU\"\n",
    "Leu = \"UUA\"\n",
    "amber = \"UAG\""
   ]
  },
  {
   "cell_type": "markdown",
   "metadata": {},
   "source": [
    "We can __concatenate__, or \"glue together\", strings by using the plus (__+__) symbol. Think about what the following cell does, and try running it. "
   ]
  },
  {
   "cell_type": "code",
   "execution_count": null,
   "metadata": {},
   "outputs": [],
   "source": [
    "sequence = start_codon + Tyr + Leu + amber\n",
    "print(sequence)"
   ]
  },
  {
   "cell_type": "markdown",
   "metadata": {},
   "source": [
    "Is this what you expected? Explain your reasoning below:"
   ]
  },
  {
   "cell_type": "markdown",
   "metadata": {},
   "source": [
    "*Answer Here*"
   ]
  },
  {
   "cell_type": "markdown",
   "metadata": {},
   "source": [
    "## Your Turn!\n",
    "Write some code to print out the codon sequence that would encode the short amino acid sequence __SSP__ (including start and stop codons). You'll have to do the following:\n",
    "1. Define string variables for a start codon, serine codon, proline codon, and stop codon. (You'll have to look up what these codons are.) Although there are multiple possible codons for S, P, and \"stop\", just pick one.\n",
    "2. Concatenate the strings together. \n",
    "3. Print out your final codon sequence."
   ]
  },
  {
   "cell_type": "code",
   "execution_count": null,
   "metadata": {},
   "outputs": [],
   "source": [
    "# Type your code in this cell and run it!"
   ]
  },
  {
   "cell_type": "markdown",
   "metadata": {},
   "source": [
    "# Part 2: Lists\n",
    "Great work so far! Variables are a tricky concept to learn, but you've all got the foundations down. You've already written your first lines of computer code! With some practice, you'll all be pros in no time.  \n",
    "Lists are a particularly tricky variable to work with. Recall: __lists__ are enclosed in square brackets ( __[ ]__ ) and contain __elements__ that are separated by commas (__,__). We can access each of the __elements__ by their position within the list, or __index__.\n",
    "Suppose we have the following list:  \n",
    "\n",
    "    colors = ['red', 'green', 'blue', 'yellow', 'white', 'black']\n",
    "    \n",
    "The following graphic (courtesy of Railsware) shows each of the elements in the list and their respective indices. Note that __in Python, indexing starts from 0!__ This means that the index of the first element is 0, not 1.  \n",
    "\n",
    "![](https://railsware.com/blog/wp-content/uploads/2018/10/positive-indexes-1024x283.png)\n",
    "\n"
   ]
  },
  {
   "cell_type": "markdown",
   "metadata": {},
   "source": [
    "We can access specific elements within a list using the name of the list and the position of our desired element. For instance, what if we wanted to access the color \"red\" in our list of colors? We would need to know the name of the list it belongs in (`colors`), and its position within the list (`0`). To access the `0`th element, place the number `0` in square brackets after the list name."
   ]
  },
  {
   "cell_type": "code",
   "execution_count": null,
   "metadata": {},
   "outputs": [],
   "source": [
    "# Run this code!\n",
    "colors = ['red', 'green', 'blue', 'yellow', 'white', 'black']\n",
    "colors[0]"
   ]
  },
  {
   "cell_type": "markdown",
   "metadata": {},
   "source": [
    "List indexing is not just useful for *accessing* information. We can also use it to *replace* elements with our list. Once we access our desired element within a list, we can define it and use it just like a variable.  \n",
    "Think about what the following code does, and try running it."
   ]
  },
  {
   "cell_type": "code",
   "execution_count": null,
   "metadata": {},
   "outputs": [],
   "source": [
    "# Run this code!\n",
    "colors[2] = 'magenta'\n",
    "print(colors)"
   ]
  },
  {
   "cell_type": "markdown",
   "metadata": {},
   "source": [
    "Is this what you expected? Think about it, and explain your reasoning below:"
   ]
  },
  {
   "cell_type": "markdown",
   "metadata": {},
   "source": [
    "*Answer Here*"
   ]
  },
  {
   "cell_type": "markdown",
   "metadata": {},
   "source": [
    "## Your Turn!\n",
    "Your task is to print out another codon sequence that can encode __SSP__, along with start and stop codons. You can use the same start codon you used before. For our redundant codons, we're going to have to pick a specific codon from all of the possible codons that can encode an amino acid.  \n",
    "Below, I've typed out some lists representing some redundant codons. You'll have to use list indexing to access a specific codon of your choice. Then, concatenate your 5 codons together and print the sequence out.  \n",
    "*Extra Challenge*: How many lines of code does it take you to do this? Can you complete the entire task in *one* line of code?"
   ]
  },
  {
   "cell_type": "code",
   "execution_count": null,
   "metadata": {},
   "outputs": [],
   "source": [
    "Ser_codons = ['UCU', 'UCC', 'UCA', 'UCG', 'AGU', 'AGC']\n",
    "Pro_codons = ['CCU', 'CCC', 'CCA', 'CCG']\n",
    "stop_codons = ['UAA', 'UAG', 'UGA']\n",
    "\n",
    "# Your Code After This Line"
   ]
  },
  {
   "cell_type": "code",
   "execution_count": null,
   "metadata": {},
   "outputs": [],
   "source": []
  }
 ],
 "metadata": {
  "kernelspec": {
   "display_name": "Python 3",
   "language": "python",
   "name": "python3"
  },
  "language_info": {
   "codemirror_mode": {
    "name": "ipython",
    "version": 3
   },
   "file_extension": ".py",
   "mimetype": "text/x-python",
   "name": "python",
   "nbconvert_exporter": "python",
   "pygments_lexer": "ipython3",
   "version": "3.7.4"
  }
 },
 "nbformat": 4,
 "nbformat_minor": 2
}
