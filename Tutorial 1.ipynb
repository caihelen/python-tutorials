{
 "cells": [
  {
   "cell_type": "markdown",
   "metadata": {},
   "source": [
    "# Welcome to Tutorial 1!\n",
    "In the previous tutorial, you learned all about data types: including strings and lists. In this tutorial, you will start learning about conditional statements and loops. \n",
    "\n",
    "![](https://media.giphy.com/media/S5yqNNTQlEZfqQ7InC/giphy.gif)"
   ]
  },
  {
   "cell_type": "markdown",
   "metadata": {},
   "source": [
    "# A quick note\n",
    "You may have noticed that in some cells with Python code, there is green text that doesn't seem to do anything!  \n",
    "Those pieces of green text are called __comments.__ You can tell Python that you want to write a comment by using a pound sign (`#`) at the beginning of a line. Python will ignore the text that comes after the pound sign.  \n",
    "Comments are used to tell other human readers what your code does. It's good practice to comment often, so other people trying to read and use your code are not confused!"
   ]
  },
  {
   "cell_type": "markdown",
   "metadata": {},
   "source": [
    "# Part 0: Conditional Statements\n",
    "By now, you may have realized that writing in Python is a lot like writing in English. We've learned about variables, which are like nouns. But there's not much that we can do with just *nouns*! We need to be able to write sentences if we're going to say anything interesting. \n",
    "\n",
    "Luckily, there are special \"sentences\" that we can write in Python. The first one of these is an \"if\" statement.  \n",
    "For many English speakers, the \"if...then\" sentence is familiar to us. Here's an example:  \n",
    "\n",
    "*If it is raining outside, then I will not go to the store.*\n",
    "\n",
    "So, there are two possibilities here. Either it's raining outside and I will not go to the store, or else it is sunny outside and I will (probably) go to the store. \n",
    "\n",
    "Python works in the same way. Here's an example:"
   ]
  },
  {
   "cell_type": "code",
   "execution_count": null,
   "metadata": {},
   "outputs": [],
   "source": [
    "raining = True\n",
    "if raining:\n",
    "    print(\"I will not go to the store.\")\n",
    "else:\n",
    "    print(\"It looks sunny outside. I'm going to the store.\")"
   ]
  },
  {
   "cell_type": "markdown",
   "metadata": {},
   "source": [
    "What happened here?  \n",
    "In the first line, we defined a boolean variable called `raining`. Remember our friends, boolean variables? These are variables that are either `True` or `False`. They can't be anything else!  \n",
    "What happens if we run the same exact code, but change `raining` to be `False`?"
   ]
  },
  {
   "cell_type": "code",
   "execution_count": null,
   "metadata": {},
   "outputs": [],
   "source": [
    "raining = False\n",
    "if raining:\n",
    "    print(\"I will not go to the store.\")\n",
    "else:\n",
    "    print(\"It looks sunny outside. I'm going to the store.\")"
   ]
  },
  {
   "cell_type": "markdown",
   "metadata": {},
   "source": [
    "A __conditional__ statement is essentially a flowchart diagram.  \n",
    "![](https://electricalworkbook.com/wp-content/uploads/2018/11/if_else_statement.png)\n",
    "*(Image courtesy of electricalworkbook.com)*"
   ]
  },
  {
   "cell_type": "markdown",
   "metadata": {},
   "source": [
    "We can add some more arrows and conditions to our flowchart. What if the weather is cloudy, foggy, or there is a tornado watch?"
   ]
  },
  {
   "cell_type": "code",
   "execution_count": null,
   "metadata": {},
   "outputs": [],
   "source": [
    "raining = False\n",
    "foggy = False\n",
    "tornado_watch = False\n",
    "\n",
    "if raining:\n",
    "    print(\"I will not go to the store.\")\n",
    "elif foggy: \n",
    "    print(\"I can't see a single thing out there.\")\n",
    "elif tornado_watch:\n",
    "    print(\"Gadzooks!\")\n",
    "else:\n",
    "    print(\"It looks sunny outside. I'm going to the store.\")"
   ]
  },
  {
   "cell_type": "markdown",
   "metadata": {},
   "source": [
    "Note that `elif` is shorthand for \"else, if\". Python will check the `if` statement first. Remember that there are two possibilities for this `if` statement: \n",
    "* In cases where the `if` statement is `True`, Python will go on to execute the indented code that immediately follows it.\n",
    "* In cases where the `if` statement is `False`, Python will go on to check the `elif` and `else` statements that follow it. In cases where none of the `if` and `elif` statements or true, Python will execute the `else` statement. \n",
    "\n",
    "An `if` statement always needs an `else`, in case the `if` statement is not `True`!  \n",
    "\n",
    "Try changing the value of each of the boolean variables, and see what happens.  \n",
    "Notice that each conditional statement is followed by an __indented line__. In Python, indentations are very important. The indented lines \"belong\" to the unindented conditional statements that are right above it. Try removing indentations or indenting too much--you will receive some nasty-looking error messages!  \n",
    "\n",
    "When indenting, you can either use 4 spaces or 1 'Tab'. Whatever you choose, it's important to keep it consistent--use one or the other, but not both.  \n",
    "Also note that the first line of each \"block\" must end in a colon ( __:__ )."
   ]
  },
  {
   "cell_type": "markdown",
   "metadata": {},
   "source": [
    "Unsurprisingly, we can use math operators and symbols as our conditional statements. To __compare__ the values of two different variables or numbers, we will need to use __double equals signs__ (==). Remember that one equals sign (=) will make Python think that you are trying to assign a variable!  \n",
    "\n",
    "Read the following code. What will it print out? Check your guesses by running the cell."
   ]
  },
  {
   "cell_type": "code",
   "execution_count": null,
   "metadata": {},
   "outputs": [],
   "source": [
    "if 5 > 3:\n",
    "    print(\"5 is greater than 3. I knew that!\")\n",
    "else:\n",
    "    print(\"5 is not greater than 3. Your math is wrong.\")\n",
    "    \n",
    "if 4==2*2:   # Note that we have to use == when comparing values. One = means that we are trying to define a variable!\n",
    "    print(\"4 is equal to 2 * 2.\")\n",
    "else:\n",
    "    print(\"4 is not the square of 2!\")\n",
    "\n",
    "if \"tomato\"==\"tomato\":\n",
    "    print(\"to-may-to, to-mah-to\")\n",
    "else:\n",
    "    print(\"Nonsense!\")"
   ]
  },
  {
   "cell_type": "markdown",
   "metadata": {},
   "source": [
    "Is this what you expected? Explain your reasoning below."
   ]
  },
  {
   "cell_type": "markdown",
   "metadata": {},
   "source": [
    "*Answer Here*"
   ]
  },
  {
   "cell_type": "markdown",
   "metadata": {},
   "source": [
    "# Part 1: For Loops"
   ]
  },
  {
   "cell_type": "markdown",
   "metadata": {},
   "source": [
    "For most things in programming, we want to maximize efficiency. Let's say I have a list of numbers from 1-10, and I want to multiply each element in the list by 2. Here's an example of code I could write:"
   ]
  },
  {
   "cell_type": "code",
   "execution_count": null,
   "metadata": {},
   "outputs": [],
   "source": [
    "numbers_list = [1, 2, 3, 4, 5, 6, 7, 8, 9, 10]\n",
    "numbers_list[0] = numbers_list[0] * 2\n",
    "numbers_list[1] = numbers_list[1] * 2\n",
    "numbers_list[2] = numbers_list[2] * 2\n",
    "numbers_list[3] = numbers_list[3] * 2"
   ]
  },
  {
   "cell_type": "markdown",
   "metadata": {},
   "source": [
    "Oof! I've only changed four of the numbers, and I'm already tired of typing! Is there a better way we can do this?  \n",
    "*Of course there is!* Instead of changing each element within a list at once, we can __iterate__ over the entire list. In programming, __iterating over__ a collection of items means that we are going to apply an operation to each item in the collection. In our case, we want to __iterate over each element__ in this list. We can do this with a __for loop__."
   ]
  },
  {
   "cell_type": "code",
   "execution_count": null,
   "metadata": {},
   "outputs": [],
   "source": [
    "# Run this code!\n",
    "numbers_list = [1, 2, 3, 4, 5, 6, 7, 8, 9, 10]\n",
    "for N in numbers_list:\n",
    "    print(N, \"times 2 is\", N*2)"
   ]
  },
  {
   "cell_type": "markdown",
   "metadata": {},
   "source": [
    "Much better! In the previous cell, the variable `N` is a placeholder name for each element in the list. We used this placeholder name to refer to elements. Python realizes that we want to iterate over each element within the list called `numbers_list`.  \n",
    "\n",
    "After the `for` statement, Python will look to see if there is indented code after it. Indeed, there is! We say that this indented code is __inside__ the loop.  \n",
    "\n",
    "Python will apply the code inside the loop to every single element in the list, until it reaches the last one.  \n",
    "\n",
    "The following code does the same thing. However, it iterates over each __index__ in the list, rather than each __element__ of the list. This way, we can also update the original list one element at a time. We'll print out this updated list at the end, just to see what changed."
   ]
  },
  {
   "cell_type": "code",
   "execution_count": null,
   "metadata": {},
   "outputs": [],
   "source": [
    "# Run this code!\n",
    "numbers_list = [1, 2, 3, 4, 5, 6, 7, 8, 9, 10]\n",
    "for i in range(len(numbers_list)):\n",
    "    print(numbers_list[i], \"times 2 is\", numbers_list[i]*2)\n",
    "    numbers_list[i] = numbers_list[i] * 2 # Update each element of the list\n",
    "    \n",
    "print(\"Updated numbers:\", numbers_list)"
   ]
  },
  {
   "cell_type": "markdown",
   "metadata": {},
   "source": [
    "Using the `for i in range(len(list_variable))` method is a very common way of iterating over lists. Here, `i` was the placeholder variable that referred to all of the possible positions/indices within a list. \n",
    "\n",
    "You can also iterate over characters within a string! What do you think the following code does?"
   ]
  },
  {
   "cell_type": "code",
   "execution_count": null,
   "metadata": {},
   "outputs": [],
   "source": [
    "for letter in 'Hello!':\n",
    "    print(letter)"
   ]
  },
  {
   "cell_type": "markdown",
   "metadata": {},
   "source": [
    "## Your Turn!\n",
    "Believe it or not, but you now have the tools to code up your own reverse transcriptase! Here is your task:  \n",
    "1. I'll give you a short RNA sequence. You'll have to set up a `for` loop that iterates over each letter in the sequence. \n",
    "2. Inside of the `for` loop, you'll have to write `if`, `elif`, and `else` statements. What should the reverse transcriptase give back if it sees an 'A'? If it's not an 'A', but a 'G' instead? and so on.\n",
    "3. Concatenate each of these letters onto the string called `result`. Go back to Tutorial 0 if you are unfamiliar with string concatenation. \n",
    "4. Finally, print out the `result` of your reverse transcriptase. Don't worry about splicing, etc."
   ]
  },
  {
   "cell_type": "code",
   "execution_count": 2,
   "metadata": {},
   "outputs": [],
   "source": [
    "rna_seq = 'UUCAUGC'\n",
    "result = ''\n",
    "\n",
    "# The following line may come in handy\n",
    "result = result + '*'\n",
    "\n",
    "# Your Code After This Line"
   ]
  },
  {
   "cell_type": "code",
   "execution_count": null,
   "metadata": {},
   "outputs": [],
   "source": []
  }
 ],
 "metadata": {
  "kernelspec": {
   "display_name": "Python 3",
   "language": "python",
   "name": "python3"
  },
  "language_info": {
   "codemirror_mode": {
    "name": "ipython",
    "version": 3
   },
   "file_extension": ".py",
   "mimetype": "text/x-python",
   "name": "python",
   "nbconvert_exporter": "python",
   "pygments_lexer": "ipython3",
   "version": "3.7.4"
  }
 },
 "nbformat": 4,
 "nbformat_minor": 2
}
